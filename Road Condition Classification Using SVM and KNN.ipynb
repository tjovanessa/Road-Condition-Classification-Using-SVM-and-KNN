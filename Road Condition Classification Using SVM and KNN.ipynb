{
 "cells": [
  {
   "cell_type": "markdown",
   "id": "9a467711",
   "metadata": {
    "id": "9a467711"
   },
   "source": [
    "# Road Condition Classification Using SVM and KNN\n",
    "Created at 27/06/2023\n",
    "\n",
    "#### Dataset\n",
    "**`panjang_ruas_jalan_berdasarkan_kondisi_jalan_data.csv`: https://opendata.jabarprov.go.id/id/dataset/panjang-ruas-jalan-berdasarkan-kondisi-jalan-di-jawa-barat**\n",
    "\n",
    "There are three (3) predictor variables that are assumed to significantly influence the response variable, including: \n",
    "- Wilayah UPTD (categorical)\n",
    "- Panjang Ruas Jalan (numerical)\n",
    "- Tahun Pengambilan Data (categorical)\n",
    "\n",
    "The response variables of this dataset is:\n",
    "- Kondisi Jalan (categorical) which consists of four (4) labels: \"Baik\", \"Sedang\", \"Rusak Ringan\", and \"Rusak Berat\"\n",
    "\n",
    "Therefore, with more than two (2) labels, this data set is categorized as multinomial classification. The Machine Learning methods that will be used to analyze this dataset are Support Vector Machines (SVM) and K-Nearest Neighbor (KNN)."
   ]
  },
  {
   "cell_type": "markdown",
   "id": "b1045088",
   "metadata": {
    "id": "b1045088"
   },
   "source": [
    "#### Import libraries"
   ]
  },
  {
   "cell_type": "code",
   "execution_count": 2,
   "id": "fd1feae7",
   "metadata": {
    "id": "fd1feae7",
    "scrolled": true
   },
   "outputs": [],
   "source": [
    "import pandas as pd\n",
    "import numpy as np\n",
    "import matplotlib.pyplot as plt\n",
    "import seaborn as sns\n",
    "from scipy import stats\n",
    "from sklearn.metrics import classification_report, confusion_matrix\n",
    "from sklearn.model_selection import GridSearchCV\n",
    "from sklearn.model_selection import cross_val_score\n",
    "%matplotlib inline"
   ]
  },
  {
   "cell_type": "markdown",
   "id": "b38e630b",
   "metadata": {
    "id": "b38e630b"
   },
   "source": [
    "## Data Collection"
   ]
  },
  {
   "cell_type": "code",
   "execution_count": 3,
   "id": "113bb686",
   "metadata": {
    "id": "113bb686",
    "scrolled": true
   },
   "outputs": [],
   "source": [
    "# read dataset\n",
    "data = pd.read_csv(\"panjang_ruas_jalan_berdasarkan_kondisi_jalan_data.csv\", sep = \",\")"
   ]
  },
  {
   "cell_type": "markdown",
   "id": "zxy4iujsWK-t",
   "metadata": {
    "id": "zxy4iujsWK-t"
   },
   "source": [
    "## Feature Selection"
   ]
  },
  {
   "cell_type": "code",
   "execution_count": 4,
   "id": "uJ1PiQd3lqYZ",
   "metadata": {
    "id": "uJ1PiQd3lqYZ",
    "scrolled": true
   },
   "outputs": [],
   "source": [
    "data = data.drop(['nama_provinsi', 'kode_kabupaten_kota', 'kode_provinsi', 'satuan', 'nama_kabupaten_kota', 'id', 'kategori_jalan'], axis = 1)"
   ]
  },
  {
   "cell_type": "code",
   "execution_count": 5,
   "id": "fSJHPamDlu6X",
   "metadata": {
    "colab": {
     "base_uri": "https://localhost:8080/",
     "height": 337
    },
    "id": "fSJHPamDlu6X",
    "outputId": "1fb479c5-3648-463f-d1b5-3d792d53cb98",
    "scrolled": true
   },
   "outputs": [
    {
     "data": {
      "text/html": [
       "<div>\n",
       "<style scoped>\n",
       "    .dataframe tbody tr th:only-of-type {\n",
       "        vertical-align: middle;\n",
       "    }\n",
       "\n",
       "    .dataframe tbody tr th {\n",
       "        vertical-align: top;\n",
       "    }\n",
       "\n",
       "    .dataframe thead th {\n",
       "        text-align: right;\n",
       "    }\n",
       "</style>\n",
       "<table border=\"1\" class=\"dataframe\">\n",
       "  <thead>\n",
       "    <tr style=\"text-align: right;\">\n",
       "      <th></th>\n",
       "      <th>wilayah</th>\n",
       "      <th>kondisi_jalan</th>\n",
       "      <th>panjang</th>\n",
       "      <th>tahun</th>\n",
       "    </tr>\n",
       "  </thead>\n",
       "  <tbody>\n",
       "    <tr>\n",
       "      <th>0</th>\n",
       "      <td>UPTD PENGELOLAAN JALAN DAN JEMBATAN WILAYAH PE...</td>\n",
       "      <td>BAIK</td>\n",
       "      <td>117.66</td>\n",
       "      <td>2018</td>\n",
       "    </tr>\n",
       "    <tr>\n",
       "      <th>1</th>\n",
       "      <td>UPTD PENGELOLAAN JALAN DAN JEMBATAN WILAYAH PE...</td>\n",
       "      <td>SEDANG</td>\n",
       "      <td>9.39</td>\n",
       "      <td>2018</td>\n",
       "    </tr>\n",
       "    <tr>\n",
       "      <th>2</th>\n",
       "      <td>UPTD PENGELOLAAN JALAN DAN JEMBATAN WILAYAH PE...</td>\n",
       "      <td>RUSAK RINGAN</td>\n",
       "      <td>5.76</td>\n",
       "      <td>2018</td>\n",
       "    </tr>\n",
       "    <tr>\n",
       "      <th>3</th>\n",
       "      <td>UPTD PENGELOLAAN JALAN DAN JEMBATAN WILAYAH PE...</td>\n",
       "      <td>RUSAK BERAT</td>\n",
       "      <td>NaN</td>\n",
       "      <td>2018</td>\n",
       "    </tr>\n",
       "    <tr>\n",
       "      <th>4</th>\n",
       "      <td>UPTD PENGELOLAAN JALAN DAN JEMBATAN WILAYAH PE...</td>\n",
       "      <td>BAIK</td>\n",
       "      <td>109.09</td>\n",
       "      <td>2018</td>\n",
       "    </tr>\n",
       "  </tbody>\n",
       "</table>\n",
       "</div>"
      ],
      "text/plain": [
       "                                             wilayah kondisi_jalan  panjang  \\\n",
       "0  UPTD PENGELOLAAN JALAN DAN JEMBATAN WILAYAH PE...          BAIK   117.66   \n",
       "1  UPTD PENGELOLAAN JALAN DAN JEMBATAN WILAYAH PE...        SEDANG     9.39   \n",
       "2  UPTD PENGELOLAAN JALAN DAN JEMBATAN WILAYAH PE...  RUSAK RINGAN     5.76   \n",
       "3  UPTD PENGELOLAAN JALAN DAN JEMBATAN WILAYAH PE...   RUSAK BERAT      NaN   \n",
       "4  UPTD PENGELOLAAN JALAN DAN JEMBATAN WILAYAH PE...          BAIK   109.09   \n",
       "\n",
       "   tahun  \n",
       "0   2018  \n",
       "1   2018  \n",
       "2   2018  \n",
       "3   2018  \n",
       "4   2018  "
      ]
     },
     "execution_count": 5,
     "metadata": {},
     "output_type": "execute_result"
    }
   ],
   "source": [
    "data.rename(columns={'wilayah_uptd_': 'wilayah', ' panjang_ruas_jalan ': 'panjang'}, inplace=True)\n",
    "data.head(5)"
   ]
  },
  {
   "cell_type": "markdown",
   "id": "BrrHTbvFiqJD",
   "metadata": {
    "id": "BrrHTbvFiqJD"
   },
   "source": [
    "## Exploratory Data Analysis"
   ]
  },
  {
   "cell_type": "markdown",
   "id": "l5sxT3UAnLxP",
   "metadata": {
    "id": "l5sxT3UAnLxP"
   },
   "source": [
    "### Data Summary"
   ]
  },
  {
   "cell_type": "code",
   "execution_count": 6,
   "id": "MOxJLNZInQEB",
   "metadata": {
    "colab": {
     "base_uri": "https://localhost:8080/"
    },
    "id": "MOxJLNZInQEB",
    "outputId": "a771f866-f241-4efb-8e1e-8d163f31c626",
    "scrolled": false
   },
   "outputs": [
    {
     "name": "stdout",
     "output_type": "stream",
     "text": [
      "<class 'pandas.core.frame.DataFrame'>\n",
      "RangeIndex: 648 entries, 0 to 647\n",
      "Data columns (total 4 columns):\n",
      " #   Column         Non-Null Count  Dtype  \n",
      "---  ------         --------------  -----  \n",
      " 0   wilayah        648 non-null    object \n",
      " 1   kondisi_jalan  648 non-null    object \n",
      " 2   panjang        497 non-null    float64\n",
      " 3   tahun          648 non-null    int64  \n",
      "dtypes: float64(1), int64(1), object(2)\n",
      "memory usage: 20.4+ KB\n"
     ]
    }
   ],
   "source": [
    "data.info()"
   ]
  },
  {
   "cell_type": "code",
   "execution_count": 7,
   "id": "LSsEJKR0nUpe",
   "metadata": {
    "colab": {
     "base_uri": "https://localhost:8080/",
     "height": 300
    },
    "id": "LSsEJKR0nUpe",
    "outputId": "e7896689-79a0-46c6-89b5-6071ad15a279"
   },
   "outputs": [
    {
     "data": {
      "text/html": [
       "<div>\n",
       "<style scoped>\n",
       "    .dataframe tbody tr th:only-of-type {\n",
       "        vertical-align: middle;\n",
       "    }\n",
       "\n",
       "    .dataframe tbody tr th {\n",
       "        vertical-align: top;\n",
       "    }\n",
       "\n",
       "    .dataframe thead th {\n",
       "        text-align: right;\n",
       "    }\n",
       "</style>\n",
       "<table border=\"1\" class=\"dataframe\">\n",
       "  <thead>\n",
       "    <tr style=\"text-align: right;\">\n",
       "      <th></th>\n",
       "      <th>panjang</th>\n",
       "      <th>tahun</th>\n",
       "    </tr>\n",
       "  </thead>\n",
       "  <tbody>\n",
       "    <tr>\n",
       "      <th>count</th>\n",
       "      <td>497.000000</td>\n",
       "      <td>648.000000</td>\n",
       "    </tr>\n",
       "    <tr>\n",
       "      <th>mean</th>\n",
       "      <td>28.289437</td>\n",
       "      <td>2019.166667</td>\n",
       "    </tr>\n",
       "    <tr>\n",
       "      <th>std</th>\n",
       "      <td>37.679079</td>\n",
       "      <td>1.068012</td>\n",
       "    </tr>\n",
       "    <tr>\n",
       "      <th>min</th>\n",
       "      <td>0.060000</td>\n",
       "      <td>2018.000000</td>\n",
       "    </tr>\n",
       "    <tr>\n",
       "      <th>25%</th>\n",
       "      <td>3.750000</td>\n",
       "      <td>2018.000000</td>\n",
       "    </tr>\n",
       "    <tr>\n",
       "      <th>50%</th>\n",
       "      <td>12.860000</td>\n",
       "      <td>2019.000000</td>\n",
       "    </tr>\n",
       "    <tr>\n",
       "      <th>75%</th>\n",
       "      <td>40.160000</td>\n",
       "      <td>2020.000000</td>\n",
       "    </tr>\n",
       "    <tr>\n",
       "      <th>max</th>\n",
       "      <td>210.520000</td>\n",
       "      <td>2021.000000</td>\n",
       "    </tr>\n",
       "  </tbody>\n",
       "</table>\n",
       "</div>"
      ],
      "text/plain": [
       "          panjang        tahun\n",
       "count  497.000000   648.000000\n",
       "mean    28.289437  2019.166667\n",
       "std     37.679079     1.068012\n",
       "min      0.060000  2018.000000\n",
       "25%      3.750000  2018.000000\n",
       "50%     12.860000  2019.000000\n",
       "75%     40.160000  2020.000000\n",
       "max    210.520000  2021.000000"
      ]
     },
     "execution_count": 7,
     "metadata": {},
     "output_type": "execute_result"
    }
   ],
   "source": [
    "data.describe()"
   ]
  },
  {
   "cell_type": "code",
   "execution_count": 8,
   "id": "x_Z2TqWEnYfA",
   "metadata": {
    "colab": {
     "base_uri": "https://localhost:8080/"
    },
    "id": "x_Z2TqWEnYfA",
    "outputId": "9bc1c666-b77d-428e-c4e7-9423f7cb30a8",
    "scrolled": true
   },
   "outputs": [
    {
     "data": {
      "text/plain": [
       "UPTD PENGELOLAAN JALAN DAN JEMBATAN WILAYAH PELAYANAN III    168\n",
       "UPTD PENGELOLAAN JALAN DAN JEMBATAN WILAYAH PELAYANAN V      144\n",
       "UPTD PENGELOLAAN JALAN DAN JEMBATAN WILAYAH PELAYANAN I      144\n",
       "UPTD PENGELOLAAN JALAN DAN JEMBATAN WILAYAH PELAYANAN VI      96\n",
       "UPTD PENGELOLAAN JALAN DAN JEMBATAN WILAYAH PELAYANAN IV      48\n",
       "UPTD PENGELOLAAN JALAN DAN JEMBATAN WILAYAH PELAYANAN II      48\n",
       "Name: wilayah, dtype: int64"
      ]
     },
     "execution_count": 8,
     "metadata": {},
     "output_type": "execute_result"
    }
   ],
   "source": [
    "data[\"wilayah\"].value_counts()"
   ]
  },
  {
   "cell_type": "code",
   "execution_count": 9,
   "id": "s73rmRKkncOo",
   "metadata": {
    "colab": {
     "base_uri": "https://localhost:8080/"
    },
    "id": "s73rmRKkncOo",
    "outputId": "54a62a4d-a48e-436d-dc17-cfa5a5e26954"
   },
   "outputs": [
    {
     "data": {
      "text/plain": [
       "2018    216\n",
       "2019    216\n",
       "2020    108\n",
       "2021    108\n",
       "Name: tahun, dtype: int64"
      ]
     },
     "execution_count": 9,
     "metadata": {},
     "output_type": "execute_result"
    }
   ],
   "source": [
    "data[\"tahun\"].value_counts()"
   ]
  },
  {
   "cell_type": "code",
   "execution_count": 10,
   "id": "F7nb78vsoBYF",
   "metadata": {
    "colab": {
     "base_uri": "https://localhost:8080/"
    },
    "id": "F7nb78vsoBYF",
    "outputId": "3f7f0491-c1d2-44e3-9fba-895ca335a0dd"
   },
   "outputs": [
    {
     "data": {
      "text/plain": [
       "RUSAK RINGAN    162\n",
       "RUSAK BERAT     162\n",
       "SEDANG          162\n",
       "BAIK            162\n",
       "Name: kondisi_jalan, dtype: int64"
      ]
     },
     "execution_count": 10,
     "metadata": {},
     "output_type": "execute_result"
    }
   ],
   "source": [
    "data[\"kondisi_jalan\"].value_counts()"
   ]
  },
  {
   "cell_type": "markdown",
   "id": "qkYDFq4mpgaq",
   "metadata": {
    "id": "qkYDFq4mpgaq"
   },
   "source": [
    "### Data Visualization"
   ]
  },
  {
   "cell_type": "code",
   "execution_count": 68,
   "id": "KqQUspRgipLF",
   "metadata": {
    "colab": {
     "base_uri": "https://localhost:8080/",
     "height": 668
    },
    "id": "KqQUspRgipLF",
    "outputId": "92fcbd19-5d10-4241-d92e-86be4d8e9d98",
    "scrolled": true
   },
   "outputs": [
    {
     "data": {
      "image/png": "[encoded data removed]",
      "text/plain": [
       "<Figure size 504x504 with 1 Axes>"
      ]
     },
     "metadata": {
      "needs_background": "light"
     },
     "output_type": "display_data"
    }
   ],
   "source": [
    "plt.figure(figsize = (7, 7))\n",
    "plt.title(\"Distributions of Kondisi Jalan\")\n",
    "sns.countplot(x = 'kondisi_jalan', data=data, palette = \"coolwarm\")\n",
    "plt.ylabel(\"Count\")\n",
    "plt.xlabel(\"Kondisi Jalan\")\n",
    "plt.show()"
   ]
  },
  {
   "cell_type": "markdown",
   "id": "Os5SL1XBeP2L",
   "metadata": {
    "id": "Os5SL1XBeP2L"
   },
   "source": [
    "### Data Preprocessing"
   ]
  },
  {
   "cell_type": "markdown",
   "id": "PN-9Uumbj06G",
   "metadata": {
    "id": "PN-9Uumbj06G"
   },
   "source": [
    "##### Data Cleaning"
   ]
  },
  {
   "cell_type": "code",
   "execution_count": 12,
   "id": "1542fcef",
   "metadata": {
    "colab": {
     "base_uri": "https://localhost:8080/"
    },
    "id": "1542fcef",
    "outputId": "82e3202e-38f4-4a3f-8338-f3a247b06795",
    "scrolled": true
   },
   "outputs": [
    {
     "name": "stdout",
     "output_type": "stream",
     "text": [
      "wilayah            0\n",
      "kondisi_jalan      0\n",
      "panjang          151\n",
      "tahun              0\n",
      "dtype: int64\n"
     ]
    }
   ],
   "source": [
    "print(data.isna().sum())"
   ]
  },
  {
   "cell_type": "code",
   "execution_count": 13,
   "id": "01LOSwJNu_93",
   "metadata": {
    "id": "01LOSwJNu_93",
    "scrolled": true
   },
   "outputs": [],
   "source": [
    "data = data.dropna()"
   ]
  },
  {
   "cell_type": "code",
   "execution_count": 69,
   "id": "aybIpHmiekob",
   "metadata": {
    "colab": {
     "base_uri": "https://localhost:8080/",
     "height": 450
    },
    "id": "aybIpHmiekob",
    "outputId": "9608f8ab-b23c-4744-cb7f-3b6e2668c65c",
    "scrolled": true
   },
   "outputs": [
    {
     "data": {
      "image/png": "[encoded data removed]",
      "text/plain": [
       "<Figure size 432x288 with 1 Axes>"
      ]
     },
     "metadata": {
      "needs_background": "light"
     },
     "output_type": "display_data"
    }
   ],
   "source": [
    "# handling outliers\n",
    "sns.boxplot(x='kondisi_jalan',y=data['panjang'], data=data, palette='winter')\n",
    "plt.show()"
   ]
  },
  {
   "cell_type": "code",
   "execution_count": 70,
   "id": "KRo3l95YiEbW",
   "metadata": {
    "colab": {
     "base_uri": "https://localhost:8080/",
     "height": 450
    },
    "id": "KRo3l95YiEbW",
    "outputId": "73d8c657-4e87-411c-8e9a-d189c1c2e423",
    "scrolled": true
   },
   "outputs": [
    {
     "data": {
      "image/png": "[encoded data removed]",
      "text/plain": [
       "<Figure size 432x288 with 1 Axes>"
      ]
     },
     "metadata": {
      "needs_background": "light"
     },
     "output_type": "display_data"
    }
   ],
   "source": [
    "grouped_data = data.groupby('kondisi_jalan')\n",
    "\n",
    "def remove_outliers(group):\n",
    "    q1 = group['panjang'].quantile(0.25)\n",
    "    q3 = group['panjang'].quantile(0.75)\n",
    "    iqr = q3 - q1\n",
    "    lower_bound = q1 - 1.5 * iqr\n",
    "    upper_bound = q3 + 1.5 * iqr\n",
    "    return group[(group['panjang'] >= lower_bound) & (group['panjang'] <= upper_bound)]\n",
    "\n",
    "filtered_data = grouped_data.apply(remove_outliers)\n",
    "filtered_data = filtered_data.reset_index(drop=True)\n",
    "data = filtered_data\n",
    "\n",
    "sns.boxplot(x='kondisi_jalan', y='panjang', data=data, palette='winter')\n",
    "plt.show()"
   ]
  },
  {
   "cell_type": "markdown",
   "id": "PUE1WO4Pj-QF",
   "metadata": {
    "id": "PUE1WO4Pj-QF"
   },
   "source": [
    "##### Handling Categorical Values"
   ]
  },
  {
   "cell_type": "code",
   "execution_count": 16,
   "id": "MwULqXc-egy5",
   "metadata": {
    "id": "MwULqXc-egy5",
    "scrolled": true
   },
   "outputs": [],
   "source": [
    "data = data.replace(to_replace=\"BAIK\",value=0)\n",
    "data = data.replace(to_replace=\"SEDANG\",value=1)\n",
    "data = data.replace(to_replace=\"RUSAK RINGAN\",value=2)\n",
    "data = data.replace(to_replace=\"RUSAK BERAT\",value=3)"
   ]
  },
  {
   "cell_type": "code",
   "execution_count": 17,
   "id": "MB5sBVJ1gXfC",
   "metadata": {
    "id": "MB5sBVJ1gXfC",
    "scrolled": true
   },
   "outputs": [],
   "source": [
    "# Data Wilayah UPTD\n",
    "data = data.replace(to_replace=\"UPTD PENGELOLAAN JALAN DAN JEMBATAN WILAYAH PELAYANAN I\",value=0)\n",
    "data = data.replace(to_replace=\"UPTD PENGELOLAAN JALAN DAN JEMBATAN WILAYAH PELAYANAN II\",value=1)\n",
    "data = data.replace(to_replace=\"UPTD PENGELOLAAN JALAN DAN JEMBATAN WILAYAH PELAYANAN III\",value=2)\n",
    "data = data.replace(to_replace=\"UPTD PENGELOLAAN JALAN DAN JEMBATAN WILAYAH PELAYANAN IV\",value=3)\n",
    "data = data.replace(to_replace=\"UPTD PENGELOLAAN JALAN DAN JEMBATAN WILAYAH PELAYANAN V\",value=4)\n",
    "data = data.replace(to_replace=\"UPTD PENGELOLAAN JALAN DAN JEMBATAN WILAYAH PELAYANAN VI\",value=5)"
   ]
  },
  {
   "cell_type": "markdown",
   "id": "dI00gvP8k1-b",
   "metadata": {
    "id": "dI00gvP8k1-b"
   },
   "source": [
    "##### Data Splitting"
   ]
  },
  {
   "cell_type": "code",
   "execution_count": 18,
   "id": "HY5ZgQ4CmDtL",
   "metadata": {
    "colab": {
     "base_uri": "https://localhost:8080/",
     "height": 206
    },
    "id": "HY5ZgQ4CmDtL",
    "outputId": "15db9bcd-db2c-4a5a-eba2-4da545ba379a",
    "scrolled": true
   },
   "outputs": [
    {
     "data": {
      "text/html": [
       "<div>\n",
       "<style scoped>\n",
       "    .dataframe tbody tr th:only-of-type {\n",
       "        vertical-align: middle;\n",
       "    }\n",
       "\n",
       "    .dataframe tbody tr th {\n",
       "        vertical-align: top;\n",
       "    }\n",
       "\n",
       "    .dataframe thead th {\n",
       "        text-align: right;\n",
       "    }\n",
       "</style>\n",
       "<table border=\"1\" class=\"dataframe\">\n",
       "  <thead>\n",
       "    <tr style=\"text-align: right;\">\n",
       "      <th></th>\n",
       "      <th>wilayah</th>\n",
       "      <th>panjang</th>\n",
       "      <th>tahun</th>\n",
       "    </tr>\n",
       "  </thead>\n",
       "  <tbody>\n",
       "    <tr>\n",
       "      <th>0</th>\n",
       "      <td>0</td>\n",
       "      <td>117.66</td>\n",
       "      <td>2018</td>\n",
       "    </tr>\n",
       "    <tr>\n",
       "      <th>1</th>\n",
       "      <td>1</td>\n",
       "      <td>109.09</td>\n",
       "      <td>2018</td>\n",
       "    </tr>\n",
       "    <tr>\n",
       "      <th>2</th>\n",
       "      <td>0</td>\n",
       "      <td>83.82</td>\n",
       "      <td>2018</td>\n",
       "    </tr>\n",
       "    <tr>\n",
       "      <th>3</th>\n",
       "      <td>2</td>\n",
       "      <td>54.56</td>\n",
       "      <td>2018</td>\n",
       "    </tr>\n",
       "    <tr>\n",
       "      <th>4</th>\n",
       "      <td>3</td>\n",
       "      <td>56.60</td>\n",
       "      <td>2018</td>\n",
       "    </tr>\n",
       "  </tbody>\n",
       "</table>\n",
       "</div>"
      ],
      "text/plain": [
       "   wilayah  panjang  tahun\n",
       "0        0   117.66   2018\n",
       "1        1   109.09   2018\n",
       "2        0    83.82   2018\n",
       "3        2    54.56   2018\n",
       "4        3    56.60   2018"
      ]
     },
     "execution_count": 18,
     "metadata": {},
     "output_type": "execute_result"
    }
   ],
   "source": [
    "# define predictor variables\n",
    "x = data.drop(['kondisi_jalan'], axis=1)\n",
    "x.head()"
   ]
  },
  {
   "cell_type": "code",
   "execution_count": 19,
   "id": "SPay1lyVmRdF",
   "metadata": {
    "colab": {
     "base_uri": "https://localhost:8080/"
    },
    "id": "SPay1lyVmRdF",
    "outputId": "96f9df76-2da2-48d8-e0f0-f71f4dfc44f4",
    "scrolled": true
   },
   "outputs": [
    {
     "data": {
      "text/plain": [
       "0    0\n",
       "1    0\n",
       "2    0\n",
       "3    0\n",
       "4    0\n",
       "Name: kondisi_jalan, dtype: int64"
      ]
     },
     "execution_count": 19,
     "metadata": {},
     "output_type": "execute_result"
    }
   ],
   "source": [
    "# define response variable\n",
    "y = data['kondisi_jalan']\n",
    "y.head()"
   ]
  },
  {
   "cell_type": "code",
   "execution_count": 20,
   "id": "0QS-FV8fk4kt",
   "metadata": {
    "id": "0QS-FV8fk4kt",
    "scrolled": true
   },
   "outputs": [],
   "source": [
    "from sklearn.model_selection import train_test_split\n",
    "x_train, x_test, y_train, y_test = train_test_split(x, y, test_size=0.25,random_state = 216)"
   ]
  },
  {
   "cell_type": "markdown",
   "id": "dKDaiJNWOLmo",
   "metadata": {
    "id": "dKDaiJNWOLmo"
   },
   "source": [
    "## Chi Square Correlation Test"
   ]
  },
  {
   "cell_type": "code",
   "execution_count": 21,
   "id": "HLfzMqFsLY5g",
   "metadata": {
    "colab": {
     "base_uri": "https://localhost:8080/"
    },
    "id": "HLfzMqFsLY5g",
    "outputId": "ea59c406-ad64-47c8-b652-cc6c07665b61",
    "scrolled": true
   },
   "outputs": [
    {
     "name": "stdout",
     "output_type": "stream",
     "text": [
      "kondisi_jalan   0   1   2   3\n",
      "tahun                        \n",
      "2018           54  46  42   6\n",
      "2019           52  46  44   6\n",
      "2020           24  26  19  17\n",
      "2021           25  27  18  13\n"
     ]
    }
   ],
   "source": [
    "corr1 = pd.crosstab(data['tahun'], data['kondisi_jalan'])\n",
    "print(corr1)"
   ]
  },
  {
   "cell_type": "code",
   "execution_count": 22,
   "id": "0_T-oZ2oL0Ei",
   "metadata": {
    "colab": {
     "base_uri": "https://localhost:8080/"
    },
    "id": "0_T-oZ2oL0Ei",
    "outputId": "8829667e-16dd-4d4f-9986-04c2861b8b27",
    "scrolled": true
   },
   "outputs": [
    {
     "data": {
      "text/plain": [
       "(26.949804395163646,\n",
       " 0.001425759146077282,\n",
       " 9,\n",
       " array([[49.33333333, 46.15053763, 39.1483871 , 13.36774194],\n",
       "        [49.33333333, 46.15053763, 39.1483871 , 13.36774194],\n",
       "        [28.66666667, 26.8172043 , 22.7483871 ,  7.76774194],\n",
       "        [27.66666667, 25.88172043, 21.95483871,  7.49677419]]))"
      ]
     },
     "execution_count": 22,
     "metadata": {},
     "output_type": "execute_result"
    }
   ],
   "source": [
    "stats.chi2_contingency(corr1)"
   ]
  },
  {
   "cell_type": "code",
   "execution_count": 23,
   "id": "CWvMrqSMLtdf",
   "metadata": {
    "colab": {
     "base_uri": "https://localhost:8080/"
    },
    "id": "CWvMrqSMLtdf",
    "outputId": "1601a8be-d96d-4a49-94f5-af9cd9f2b44a",
    "scrolled": true
   },
   "outputs": [
    {
     "name": "stdout",
     "output_type": "stream",
     "text": [
      "kondisi_jalan   0   1   2   3\n",
      "wilayah                      \n",
      "0              36  28  23   8\n",
      "1               8  10   6  10\n",
      "2              42  39  38   5\n",
      "3              10   8   7   2\n",
      "4              36  36  33  11\n",
      "5              23  24  16   6\n"
     ]
    }
   ],
   "source": [
    "# wilayah -> kondisi jalan\n",
    "corr2 = pd.crosstab(data['wilayah'], data['kondisi_jalan'])\n",
    "print(corr2)"
   ]
  },
  {
   "cell_type": "code",
   "execution_count": 24,
   "id": "peBKK-lHMvhD",
   "metadata": {
    "colab": {
     "base_uri": "https://localhost:8080/"
    },
    "id": "peBKK-lHMvhD",
    "outputId": "e0fddeb7-57bf-45bd-831f-69e89770f843",
    "scrolled": true
   },
   "outputs": [
    {
     "data": {
      "text/plain": [
       "(23.989338760039573,\n",
       " 0.06527475382825017,\n",
       " 15,\n",
       " array([[31.66666667, 29.62365591, 25.12903226,  8.58064516],\n",
       "        [11.33333333, 10.60215054,  8.99354839,  3.07096774],\n",
       "        [41.33333333, 38.66666667, 32.8       , 11.2       ],\n",
       "        [ 9.        ,  8.41935484,  7.14193548,  2.43870968],\n",
       "        [38.66666667, 36.17204301, 30.68387097, 10.47741935],\n",
       "        [23.        , 21.51612903, 18.2516129 ,  6.23225806]]))"
      ]
     },
     "execution_count": 24,
     "metadata": {},
     "output_type": "execute_result"
    }
   ],
   "source": [
    "stats.chi2_contingency(corr2)"
   ]
  },
  {
   "cell_type": "markdown",
   "id": "xMHqK35_RbIl",
   "metadata": {
    "id": "xMHqK35_RbIl"
   },
   "source": [
    "# Pearson Correlation Test"
   ]
  },
  {
   "cell_type": "code",
   "execution_count": 25,
   "id": "ez7v2WqVRj0H",
   "metadata": {
    "colab": {
     "base_uri": "https://localhost:8080/"
    },
    "id": "ez7v2WqVRj0H",
    "outputId": "b36cd0ff-0dc4-45ea-924b-c56d3639eb41",
    "scrolled": true
   },
   "outputs": [
    {
     "name": "stdout",
     "output_type": "stream",
     "text": [
      "Pearson correlation coefficient: -0.43078632645528664\n",
      "p-value: 1.960856182681209e-22\n"
     ]
    }
   ],
   "source": [
    "# panjang -> kondisi jalan\n",
    "corr_coef, p_value = stats.pearsonr(data['panjang'], data['kondisi_jalan'])\n",
    "\n",
    "print(\"Pearson correlation coefficient:\", corr_coef)\n",
    "print(\"p-value:\", p_value)"
   ]
  },
  {
   "cell_type": "markdown",
   "id": "TuAyY8cC6N7b",
   "metadata": {
    "id": "TuAyY8cC6N7b"
   },
   "source": [
    "# SVM"
   ]
  },
  {
   "cell_type": "code",
   "execution_count": 26,
   "id": "7R0ph_ENfbjA",
   "metadata": {
    "id": "7R0ph_ENfbjA",
    "scrolled": true
   },
   "outputs": [],
   "source": [
    "from sklearn.svm import SVC"
   ]
  },
  {
   "cell_type": "code",
   "execution_count": 27,
   "id": "vlbtsnE-foW0",
   "metadata": {
    "id": "vlbtsnE-foW0",
    "scrolled": true
   },
   "outputs": [],
   "source": [
    "svm = SVC()"
   ]
  },
  {
   "cell_type": "code",
   "execution_count": 28,
   "id": "zgLAg3OThc03",
   "metadata": {
    "colab": {
     "base_uri": "https://localhost:8080/",
     "height": 206
    },
    "id": "zgLAg3OThc03",
    "outputId": "51fa5d8d-66f8-4394-fba9-3420f0ba5993",
    "scrolled": true
   },
   "outputs": [
    {
     "data": {
      "text/html": [
       "<div>\n",
       "<style scoped>\n",
       "    .dataframe tbody tr th:only-of-type {\n",
       "        vertical-align: middle;\n",
       "    }\n",
       "\n",
       "    .dataframe tbody tr th {\n",
       "        vertical-align: top;\n",
       "    }\n",
       "\n",
       "    .dataframe thead th {\n",
       "        text-align: right;\n",
       "    }\n",
       "</style>\n",
       "<table border=\"1\" class=\"dataframe\">\n",
       "  <thead>\n",
       "    <tr style=\"text-align: right;\">\n",
       "      <th></th>\n",
       "      <th>wilayah</th>\n",
       "      <th>panjang</th>\n",
       "      <th>tahun</th>\n",
       "    </tr>\n",
       "  </thead>\n",
       "  <tbody>\n",
       "    <tr>\n",
       "      <th>60</th>\n",
       "      <td>4</td>\n",
       "      <td>38.85</td>\n",
       "      <td>2018</td>\n",
       "    </tr>\n",
       "    <tr>\n",
       "      <th>312</th>\n",
       "      <td>0</td>\n",
       "      <td>6.55</td>\n",
       "      <td>2021</td>\n",
       "    </tr>\n",
       "    <tr>\n",
       "      <th>454</th>\n",
       "      <td>2</td>\n",
       "      <td>53.66</td>\n",
       "      <td>2021</td>\n",
       "    </tr>\n",
       "    <tr>\n",
       "      <th>330</th>\n",
       "      <td>2</td>\n",
       "      <td>105.03</td>\n",
       "      <td>2018</td>\n",
       "    </tr>\n",
       "    <tr>\n",
       "      <th>224</th>\n",
       "      <td>5</td>\n",
       "      <td>2.47</td>\n",
       "      <td>2019</td>\n",
       "    </tr>\n",
       "  </tbody>\n",
       "</table>\n",
       "</div>"
      ],
      "text/plain": [
       "     wilayah  panjang  tahun\n",
       "60         4    38.85   2018\n",
       "312        0     6.55   2021\n",
       "454        2    53.66   2021\n",
       "330        2   105.03   2018\n",
       "224        5     2.47   2019"
      ]
     },
     "execution_count": 28,
     "metadata": {},
     "output_type": "execute_result"
    }
   ],
   "source": [
    "x_train.head()"
   ]
  },
  {
   "cell_type": "code",
   "execution_count": 29,
   "id": "NatGIJWShgSs",
   "metadata": {
    "colab": {
     "base_uri": "https://localhost:8080/"
    },
    "id": "NatGIJWShgSs",
    "outputId": "994367ef-b834-4cdb-9c1f-baa78246b585",
    "scrolled": true
   },
   "outputs": [
    {
     "data": {
      "text/plain": [
       "60     0\n",
       "312    2\n",
       "454    1\n",
       "330    1\n",
       "224    2\n",
       "Name: kondisi_jalan, dtype: int64"
      ]
     },
     "execution_count": 29,
     "metadata": {},
     "output_type": "execute_result"
    }
   ],
   "source": [
    "y_train.head()"
   ]
  },
  {
   "cell_type": "code",
   "execution_count": 30,
   "id": "NCRbUF9IhKUw",
   "metadata": {
    "colab": {
     "base_uri": "https://localhost:8080/",
     "height": 74
    },
    "id": "NCRbUF9IhKUw",
    "outputId": "e81b981b-3dca-4583-d0d3-64a5da8ee7c5",
    "scrolled": true
   },
   "outputs": [
    {
     "data": {
      "text/plain": [
       "SVC()"
      ]
     },
     "execution_count": 30,
     "metadata": {},
     "output_type": "execute_result"
    }
   ],
   "source": [
    "svm.fit(x_train,y_train)"
   ]
  },
  {
   "cell_type": "markdown",
   "id": "BEjY-yU-kz8B",
   "metadata": {
    "id": "BEjY-yU-kz8B"
   },
   "source": [
    "### Train"
   ]
  },
  {
   "cell_type": "code",
   "execution_count": 31,
   "id": "aRtFTewSwLe2",
   "metadata": {
    "id": "aRtFTewSwLe2",
    "scrolled": true
   },
   "outputs": [],
   "source": [
    "predictions = svm.predict(x_train)"
   ]
  },
  {
   "cell_type": "code",
   "execution_count": 32,
   "id": "c9PenytEwXBm",
   "metadata": {
    "colab": {
     "base_uri": "https://localhost:8080/"
    },
    "id": "c9PenytEwXBm",
    "outputId": "3bd149d1-a7f7-482e-8768-d64fc054b651",
    "scrolled": true
   },
   "outputs": [
    {
     "name": "stdout",
     "output_type": "stream",
     "text": [
      "[[  0 105   0   0]\n",
      " [  0 111   0   0]\n",
      " [  0  98   0   0]\n",
      " [  0  34   0   0]]\n"
     ]
    }
   ],
   "source": [
    "print(confusion_matrix(y_train, predictions))"
   ]
  },
  {
   "cell_type": "code",
   "execution_count": 33,
   "id": "qqRVakduwzlD",
   "metadata": {
    "colab": {
     "base_uri": "https://localhost:8080/"
    },
    "id": "qqRVakduwzlD",
    "outputId": "c9b6f39e-91ef-49ee-b3ee-aa1f61945ede",
    "scrolled": false
   },
   "outputs": [
    {
     "name": "stdout",
     "output_type": "stream",
     "text": [
      "              precision    recall  f1-score   support\n",
      "\n",
      "           0       0.00      0.00      0.00       105\n",
      "           1       0.32      1.00      0.48       111\n",
      "           2       0.00      0.00      0.00        98\n",
      "           3       0.00      0.00      0.00        34\n",
      "\n",
      "    accuracy                           0.32       348\n",
      "   macro avg       0.08      0.25      0.12       348\n",
      "weighted avg       0.10      0.32      0.15       348\n",
      "\n"
     ]
    },
    {
     "name": "stderr",
     "output_type": "stream",
     "text": [
      "C:\\Users\\ASUS\\anaconda3\\lib\\site-packages\\sklearn\\metrics\\_classification.py:1245: UndefinedMetricWarning: Precision and F-score are ill-defined and being set to 0.0 in labels with no predicted samples. Use `zero_division` parameter to control this behavior.\n",
      "  _warn_prf(average, modifier, msg_start, len(result))\n",
      "C:\\Users\\ASUS\\anaconda3\\lib\\site-packages\\sklearn\\metrics\\_classification.py:1245: UndefinedMetricWarning: Precision and F-score are ill-defined and being set to 0.0 in labels with no predicted samples. Use `zero_division` parameter to control this behavior.\n",
      "  _warn_prf(average, modifier, msg_start, len(result))\n",
      "C:\\Users\\ASUS\\anaconda3\\lib\\site-packages\\sklearn\\metrics\\_classification.py:1245: UndefinedMetricWarning: Precision and F-score are ill-defined and being set to 0.0 in labels with no predicted samples. Use `zero_division` parameter to control this behavior.\n",
      "  _warn_prf(average, modifier, msg_start, len(result))\n"
     ]
    }
   ],
   "source": [
    "print(classification_report(y_train, predictions))"
   ]
  },
  {
   "cell_type": "markdown",
   "id": "XecynIr8lVGJ",
   "metadata": {
    "id": "XecynIr8lVGJ"
   },
   "source": [
    "### Test"
   ]
  },
  {
   "cell_type": "code",
   "execution_count": 34,
   "id": "QIqNE0iUyYXl",
   "metadata": {
    "id": "QIqNE0iUyYXl",
    "scrolled": true
   },
   "outputs": [],
   "source": [
    "predictions = svm.predict(x_test)"
   ]
  },
  {
   "cell_type": "code",
   "execution_count": 35,
   "id": "EHDUZiG836MS",
   "metadata": {
    "colab": {
     "base_uri": "https://localhost:8080/"
    },
    "id": "EHDUZiG836MS",
    "outputId": "beeb1322-0eab-43ea-ad52-d7b83cc2876d",
    "scrolled": true
   },
   "outputs": [
    {
     "name": "stdout",
     "output_type": "stream",
     "text": [
      "[[ 0 50  0  0]\n",
      " [ 0 34  0  0]\n",
      " [ 0 25  0  0]\n",
      " [ 0  8  0  0]]\n"
     ]
    }
   ],
   "source": [
    "print(confusion_matrix(y_test, predictions))"
   ]
  },
  {
   "cell_type": "code",
   "execution_count": 36,
   "id": "tmFcuwlj3_kl",
   "metadata": {
    "colab": {
     "base_uri": "https://localhost:8080/"
    },
    "id": "tmFcuwlj3_kl",
    "outputId": "58284292-6ba2-44e0-f7fa-614b471bbc1e",
    "scrolled": true
   },
   "outputs": [
    {
     "name": "stdout",
     "output_type": "stream",
     "text": [
      "              precision    recall  f1-score   support\n",
      "\n",
      "           0       0.00      0.00      0.00        50\n",
      "           1       0.29      1.00      0.45        34\n",
      "           2       0.00      0.00      0.00        25\n",
      "           3       0.00      0.00      0.00         8\n",
      "\n",
      "    accuracy                           0.29       117\n",
      "   macro avg       0.07      0.25      0.11       117\n",
      "weighted avg       0.08      0.29      0.13       117\n",
      "\n"
     ]
    },
    {
     "name": "stderr",
     "output_type": "stream",
     "text": [
      "C:\\Users\\ASUS\\anaconda3\\lib\\site-packages\\sklearn\\metrics\\_classification.py:1245: UndefinedMetricWarning: Precision and F-score are ill-defined and being set to 0.0 in labels with no predicted samples. Use `zero_division` parameter to control this behavior.\n",
      "  _warn_prf(average, modifier, msg_start, len(result))\n",
      "C:\\Users\\ASUS\\anaconda3\\lib\\site-packages\\sklearn\\metrics\\_classification.py:1245: UndefinedMetricWarning: Precision and F-score are ill-defined and being set to 0.0 in labels with no predicted samples. Use `zero_division` parameter to control this behavior.\n",
      "  _warn_prf(average, modifier, msg_start, len(result))\n",
      "C:\\Users\\ASUS\\anaconda3\\lib\\site-packages\\sklearn\\metrics\\_classification.py:1245: UndefinedMetricWarning: Precision and F-score are ill-defined and being set to 0.0 in labels with no predicted samples. Use `zero_division` parameter to control this behavior.\n",
      "  _warn_prf(average, modifier, msg_start, len(result))\n"
     ]
    }
   ],
   "source": [
    "print(classification_report(y_test, predictions))"
   ]
  },
  {
   "cell_type": "markdown",
   "id": "iP0-UXVX3YJm",
   "metadata": {
    "id": "iP0-UXVX3YJm"
   },
   "source": [
    "## Hyperparameter Tuning\n"
   ]
  },
  {
   "cell_type": "code",
   "execution_count": 37,
   "id": "_WiqrRHd3bvt",
   "metadata": {
    "id": "_WiqrRHd3bvt",
    "scrolled": true
   },
   "outputs": [],
   "source": [
    "param_grid = {'C': [0.001,0.01,1,10,100,1000,10000,100000], 'gamma':[1,0.1,0.01,0.001,0.0001], 'kernel':['rbf']}"
   ]
  },
  {
   "cell_type": "code",
   "execution_count": 38,
   "id": "Of3VXDaq3me6",
   "metadata": {
    "id": "Of3VXDaq3me6",
    "scrolled": true
   },
   "outputs": [],
   "source": [
    "grid = GridSearchCV(svm, param_grid, refit=True, verbose=1)"
   ]
  },
  {
   "cell_type": "code",
   "execution_count": 39,
   "id": "n8Q6CNuC3pCb",
   "metadata": {
    "colab": {
     "base_uri": "https://localhost:8080/",
     "height": 134
    },
    "id": "n8Q6CNuC3pCb",
    "outputId": "642bcb6e-4897-498d-d102-32d1ffe3d783",
    "scrolled": true
   },
   "outputs": [
    {
     "name": "stdout",
     "output_type": "stream",
     "text": [
      "Fitting 5 folds for each of 40 candidates, totalling 200 fits\n"
     ]
    },
    {
     "data": {
      "text/plain": [
       "GridSearchCV(estimator=SVC(),\n",
       "             param_grid={'C': [0.001, 0.01, 1, 10, 100, 1000, 10000, 100000],\n",
       "                         'gamma': [1, 0.1, 0.01, 0.001, 0.0001],\n",
       "                         'kernel': ['rbf']},\n",
       "             verbose=1)"
      ]
     },
     "execution_count": 39,
     "metadata": {},
     "output_type": "execute_result"
    }
   ],
   "source": [
    "grid.fit(x_train, y_train)"
   ]
  },
  {
   "cell_type": "code",
   "execution_count": 40,
   "id": "N8IuwJ6o5_WV",
   "metadata": {
    "colab": {
     "base_uri": "https://localhost:8080/",
     "height": 74
    },
    "id": "N8IuwJ6o5_WV",
    "outputId": "461f6091-4914-4571-c6d7-7e3a4ad0a547",
    "scrolled": true
   },
   "outputs": [
    {
     "data": {
      "text/plain": [
       "SVC(C=1000, gamma=1)"
      ]
     },
     "execution_count": 40,
     "metadata": {},
     "output_type": "execute_result"
    }
   ],
   "source": [
    "grid.best_estimator_"
   ]
  },
  {
   "cell_type": "markdown",
   "id": "rw-0mnln5P1A",
   "metadata": {
    "id": "rw-0mnln5P1A"
   },
   "source": [
    "### Train"
   ]
  },
  {
   "cell_type": "code",
   "execution_count": 41,
   "id": "3qFeXUHf4WoR",
   "metadata": {
    "id": "3qFeXUHf4WoR",
    "scrolled": true
   },
   "outputs": [],
   "source": [
    "grid_predictions = grid.predict(x_train)"
   ]
  },
  {
   "cell_type": "code",
   "execution_count": 42,
   "id": "o7lPcdnw3xSA",
   "metadata": {
    "colab": {
     "base_uri": "https://localhost:8080/"
    },
    "id": "o7lPcdnw3xSA",
    "outputId": "af85de85-37d4-4432-d1ba-f48e4353a537",
    "scrolled": true
   },
   "outputs": [
    {
     "name": "stdout",
     "output_type": "stream",
     "text": [
      "[[104   0   1   0]\n",
      " [  0 109   1   1]\n",
      " [  0   2  96   0]\n",
      " [  0   0   1  33]]\n"
     ]
    }
   ],
   "source": [
    "print(confusion_matrix(y_train, grid_predictions))"
   ]
  },
  {
   "cell_type": "code",
   "execution_count": 43,
   "id": "9O_1vJvX4yNB",
   "metadata": {
    "colab": {
     "base_uri": "https://localhost:8080/"
    },
    "id": "9O_1vJvX4yNB",
    "outputId": "5722db71-84a2-43c6-e84c-4fcc6f0a9412",
    "scrolled": true
   },
   "outputs": [
    {
     "name": "stdout",
     "output_type": "stream",
     "text": [
      "              precision    recall  f1-score   support\n",
      "\n",
      "           0       1.00      0.99      1.00       105\n",
      "           1       0.98      0.98      0.98       111\n",
      "           2       0.97      0.98      0.97        98\n",
      "           3       0.97      0.97      0.97        34\n",
      "\n",
      "    accuracy                           0.98       348\n",
      "   macro avg       0.98      0.98      0.98       348\n",
      "weighted avg       0.98      0.98      0.98       348\n",
      "\n"
     ]
    }
   ],
   "source": [
    "print(classification_report(y_train, grid_predictions))"
   ]
  },
  {
   "cell_type": "markdown",
   "id": "O70BN40l5YNz",
   "metadata": {
    "id": "O70BN40l5YNz"
   },
   "source": [
    "### Test"
   ]
  },
  {
   "cell_type": "code",
   "execution_count": 44,
   "id": "fp77lyAl5Zzl",
   "metadata": {
    "id": "fp77lyAl5Zzl",
    "scrolled": true
   },
   "outputs": [],
   "source": [
    "grid_predictions = grid.predict(x_test)"
   ]
  },
  {
   "cell_type": "code",
   "execution_count": 45,
   "id": "P_qJO5wB5d4k",
   "metadata": {
    "colab": {
     "base_uri": "https://localhost:8080/"
    },
    "id": "P_qJO5wB5d4k",
    "outputId": "3ea5e2a8-ea4d-40c0-c25d-40cb91aa74a7",
    "scrolled": true
   },
   "outputs": [
    {
     "name": "stdout",
     "output_type": "stream",
     "text": [
      "[[43  4  2  1]\n",
      " [ 9 17  5  3]\n",
      " [ 2  1 18  4]\n",
      " [ 0  2  0  6]]\n"
     ]
    }
   ],
   "source": [
    "print(confusion_matrix(y_test, grid_predictions))"
   ]
  },
  {
   "cell_type": "code",
   "execution_count": 46,
   "id": "ioXfrmnd5iFy",
   "metadata": {
    "colab": {
     "base_uri": "https://localhost:8080/"
    },
    "id": "ioXfrmnd5iFy",
    "outputId": "e4ab9ca4-bd58-455f-9a6b-1b9ced26fad0",
    "scrolled": true
   },
   "outputs": [
    {
     "name": "stdout",
     "output_type": "stream",
     "text": [
      "              precision    recall  f1-score   support\n",
      "\n",
      "           0       0.80      0.86      0.83        50\n",
      "           1       0.71      0.50      0.59        34\n",
      "           2       0.72      0.72      0.72        25\n",
      "           3       0.43      0.75      0.55         8\n",
      "\n",
      "    accuracy                           0.72       117\n",
      "   macro avg       0.66      0.71      0.67       117\n",
      "weighted avg       0.73      0.72      0.71       117\n",
      "\n"
     ]
    }
   ],
   "source": [
    "print(classification_report(y_test, grid_predictions))"
   ]
  },
  {
   "cell_type": "code",
   "execution_count": 47,
   "id": "0ge_DYdjhFLL",
   "metadata": {
    "colab": {
     "base_uri": "https://localhost:8080/"
    },
    "id": "0ge_DYdjhFLL",
    "outputId": "f322ed37-65b1-457e-edb2-0c8ad3ab0f5a",
    "scrolled": true
   },
   "outputs": [
    {
     "name": "stdout",
     "output_type": "stream",
     "text": [
      "Fitting 5 folds for each of 40 candidates, totalling 200 fits\n",
      "Fitting 5 folds for each of 40 candidates, totalling 200 fits\n",
      "Fitting 5 folds for each of 40 candidates, totalling 200 fits\n",
      "Fitting 5 folds for each of 40 candidates, totalling 200 fits\n",
      "Fitting 5 folds for each of 40 candidates, totalling 200 fits\n",
      "Fitting 5 folds for each of 40 candidates, totalling 200 fits\n",
      "Fitting 5 folds for each of 40 candidates, totalling 200 fits\n",
      "Fitting 5 folds for each of 40 candidates, totalling 200 fits\n",
      "Fitting 5 folds for each of 40 candidates, totalling 200 fits\n",
      "Fitting 5 folds for each of 40 candidates, totalling 200 fits\n",
      "Accuracy per Fold: [1.         0.9787234  0.9787234  0.87234043 0.93617021 0.89130435\n",
      " 0.7173913  0.23913043 0.39130435 0.41304348]\n",
      "Mean Accuracy: 0.7418131359851988\n"
     ]
    }
   ],
   "source": [
    "scores = cross_val_score(grid, x, y, cv=10, scoring='accuracy')\n",
    "\n",
    "print('Accuracy per Fold:', scores)\n",
    "print('Mean Accuracy:', scores.mean())"
   ]
  },
  {
   "cell_type": "markdown",
   "id": "2miaQNlyfuJv",
   "metadata": {
    "id": "2miaQNlyfuJv"
   },
   "source": [
    "# K-NN"
   ]
  },
  {
   "cell_type": "code",
   "execution_count": 48,
   "id": "KNELmvZCf0Rg",
   "metadata": {
    "id": "KNELmvZCf0Rg",
    "scrolled": true
   },
   "outputs": [],
   "source": [
    "from sklearn.neighbors import KNeighborsClassifier"
   ]
  },
  {
   "cell_type": "code",
   "execution_count": 49,
   "id": "exHZAybzf1nJ",
   "metadata": {
    "id": "exHZAybzf1nJ",
    "scrolled": true
   },
   "outputs": [],
   "source": [
    "knn = KNeighborsClassifier()"
   ]
  },
  {
   "cell_type": "code",
   "execution_count": 50,
   "id": "ulr16Txkf2wk",
   "metadata": {
    "colab": {
     "base_uri": "https://localhost:8080/",
     "height": 74
    },
    "id": "ulr16Txkf2wk",
    "outputId": "1d8e3827-a90a-4ec8-8b2f-e817ef566fd9",
    "scrolled": true
   },
   "outputs": [
    {
     "data": {
      "text/plain": [
       "KNeighborsClassifier()"
      ]
     },
     "execution_count": 50,
     "metadata": {},
     "output_type": "execute_result"
    }
   ],
   "source": [
    "knn.fit(x_train, y_train)"
   ]
  },
  {
   "cell_type": "markdown",
   "id": "NFAL6bSznFKy",
   "metadata": {
    "id": "NFAL6bSznFKy"
   },
   "source": [
    "### Train"
   ]
  },
  {
   "cell_type": "code",
   "execution_count": 51,
   "id": "S2iJnSoEf4B7",
   "metadata": {
    "id": "S2iJnSoEf4B7",
    "scrolled": true
   },
   "outputs": [],
   "source": [
    "yhat_train = knn.predict(x_train)"
   ]
  },
  {
   "cell_type": "code",
   "execution_count": 52,
   "id": "NIthkMMcf5wu",
   "metadata": {
    "colab": {
     "base_uri": "https://localhost:8080/"
    },
    "id": "NIthkMMcf5wu",
    "outputId": "363e5278-ebc7-4cfc-a338-bfd15412b1da",
    "scrolled": true
   },
   "outputs": [
    {
     "data": {
      "text/plain": [
       "array([[83, 18,  4,  0],\n",
       "       [24, 67, 14,  6],\n",
       "       [22, 14, 57,  5],\n",
       "       [ 5,  1,  7, 21]], dtype=int64)"
      ]
     },
     "execution_count": 52,
     "metadata": {},
     "output_type": "execute_result"
    }
   ],
   "source": [
    "cm_train = confusion_matrix(y_train, yhat_train)\n",
    "cm_train"
   ]
  },
  {
   "cell_type": "code",
   "execution_count": 53,
   "id": "CbJ9uuHzf9O5",
   "metadata": {
    "colab": {
     "base_uri": "https://localhost:8080/"
    },
    "id": "CbJ9uuHzf9O5",
    "outputId": "99008e61-dc46-432c-8b9e-4e96172fc036",
    "scrolled": true
   },
   "outputs": [
    {
     "name": "stdout",
     "output_type": "stream",
     "text": [
      "              precision    recall  f1-score   support\n",
      "\n",
      "           0       0.62      0.79      0.69       105\n",
      "           1       0.67      0.60      0.64       111\n",
      "           2       0.70      0.58      0.63        98\n",
      "           3       0.66      0.62      0.64        34\n",
      "\n",
      "    accuracy                           0.66       348\n",
      "   macro avg       0.66      0.65      0.65       348\n",
      "weighted avg       0.66      0.66      0.65       348\n",
      "\n"
     ]
    }
   ],
   "source": [
    "print(classification_report(y_train, yhat_train))"
   ]
  },
  {
   "cell_type": "markdown",
   "id": "N5QES4lxnHXT",
   "metadata": {
    "id": "N5QES4lxnHXT"
   },
   "source": [
    "### Test"
   ]
  },
  {
   "cell_type": "code",
   "execution_count": 54,
   "id": "rDTNh5GDhVOO",
   "metadata": {
    "id": "rDTNh5GDhVOO",
    "scrolled": true
   },
   "outputs": [],
   "source": [
    "yhat_test = knn.predict(x_test)"
   ]
  },
  {
   "cell_type": "code",
   "execution_count": 55,
   "id": "p3sbHLMcgAZV",
   "metadata": {
    "colab": {
     "base_uri": "https://localhost:8080/"
    },
    "id": "p3sbHLMcgAZV",
    "outputId": "0bb4c6af-2b28-4f11-ff77-5c60a1084fe5",
    "scrolled": true
   },
   "outputs": [
    {
     "data": {
      "text/plain": [
       "array([[32, 15,  2,  1],\n",
       "       [10, 17,  5,  2],\n",
       "       [ 8,  1, 12,  4],\n",
       "       [ 2,  1,  1,  4]], dtype=int64)"
      ]
     },
     "execution_count": 55,
     "metadata": {},
     "output_type": "execute_result"
    }
   ],
   "source": [
    "cm_test = confusion_matrix(y_test, yhat_test)\n",
    "cm_test"
   ]
  },
  {
   "cell_type": "code",
   "execution_count": 56,
   "id": "s4PgMrG4g2-r",
   "metadata": {
    "colab": {
     "base_uri": "https://localhost:8080/"
    },
    "id": "s4PgMrG4g2-r",
    "outputId": "575c1445-c6de-4c9d-dcec-e4e6c4671867",
    "scrolled": true
   },
   "outputs": [
    {
     "name": "stdout",
     "output_type": "stream",
     "text": [
      "              precision    recall  f1-score   support\n",
      "\n",
      "           0       0.62      0.64      0.63        50\n",
      "           1       0.50      0.50      0.50        34\n",
      "           2       0.60      0.48      0.53        25\n",
      "           3       0.36      0.50      0.42         8\n",
      "\n",
      "    accuracy                           0.56       117\n",
      "   macro avg       0.52      0.53      0.52       117\n",
      "weighted avg       0.56      0.56      0.56       117\n",
      "\n"
     ]
    }
   ],
   "source": [
    "print(classification_report(y_test, yhat_test))"
   ]
  },
  {
   "cell_type": "markdown",
   "id": "xejJTI_nnJIU",
   "metadata": {
    "id": "xejJTI_nnJIU"
   },
   "source": [
    "## Hyperparameter Tuning"
   ]
  },
  {
   "cell_type": "code",
   "execution_count": 57,
   "id": "DzL8Xwi8hZx0",
   "metadata": {
    "id": "DzL8Xwi8hZx0",
    "scrolled": true
   },
   "outputs": [],
   "source": [
    "param_grid = {'n_neighbors':list(range(1,50))}"
   ]
  },
  {
   "cell_type": "code",
   "execution_count": 58,
   "id": "XFccgWN-n_yp",
   "metadata": {
    "id": "XFccgWN-n_yp",
    "scrolled": true
   },
   "outputs": [],
   "source": [
    "# grid = GridSearchCV(knn, param_grid, cv=5)\n",
    "grid = GridSearchCV(knn, param_grid, cv=5, refit=True, verbose=1)"
   ]
  },
  {
   "cell_type": "code",
   "execution_count": 59,
   "id": "Z432YNk6oBdb",
   "metadata": {
    "colab": {
     "base_uri": "https://localhost:8080/",
     "height": 134
    },
    "id": "Z432YNk6oBdb",
    "outputId": "2187e28d-766f-4cc2-f14b-3e153cd45410",
    "scrolled": true
   },
   "outputs": [
    {
     "name": "stdout",
     "output_type": "stream",
     "text": [
      "Fitting 5 folds for each of 49 candidates, totalling 245 fits\n"
     ]
    },
    {
     "data": {
      "text/plain": [
       "GridSearchCV(cv=5, estimator=KNeighborsClassifier(),\n",
       "             param_grid={'n_neighbors': [1, 2, 3, 4, 5, 6, 7, 8, 9, 10, 11, 12,\n",
       "                                         13, 14, 15, 16, 17, 18, 19, 20, 21, 22,\n",
       "                                         23, 24, 25, 26, 27, 28, 29, 30, ...]},\n",
       "             verbose=1)"
      ]
     },
     "execution_count": 59,
     "metadata": {},
     "output_type": "execute_result"
    }
   ],
   "source": [
    "grid.fit(x_train, y_train)"
   ]
  },
  {
   "cell_type": "code",
   "execution_count": 60,
   "id": "BeROazbHi4Nd",
   "metadata": {
    "colab": {
     "base_uri": "https://localhost:8080/",
     "height": 74
    },
    "id": "BeROazbHi4Nd",
    "outputId": "84e77f7e-de85-4830-b338-b82bce4d6043",
    "scrolled": true
   },
   "outputs": [
    {
     "data": {
      "text/plain": [
       "KNeighborsClassifier(n_neighbors=1)"
      ]
     },
     "execution_count": 60,
     "metadata": {},
     "output_type": "execute_result"
    }
   ],
   "source": [
    "grid.best_estimator_"
   ]
  },
  {
   "cell_type": "markdown",
   "id": "Ol3OJnlWpx50",
   "metadata": {
    "id": "Ol3OJnlWpx50"
   },
   "source": [
    "### Train"
   ]
  },
  {
   "cell_type": "code",
   "execution_count": 61,
   "id": "v4xHeBEEkDjJ",
   "metadata": {
    "id": "v4xHeBEEkDjJ",
    "scrolled": true
   },
   "outputs": [],
   "source": [
    "grid_predictions = grid.predict(x_train)"
   ]
  },
  {
   "cell_type": "code",
   "execution_count": 62,
   "id": "7UqYffqyp0O3",
   "metadata": {
    "colab": {
     "base_uri": "https://localhost:8080/"
    },
    "id": "7UqYffqyp0O3",
    "outputId": "1fce268c-4076-4da4-f545-4115fba992bd",
    "scrolled": true
   },
   "outputs": [
    {
     "name": "stdout",
     "output_type": "stream",
     "text": [
      "[[105   0   0   0]\n",
      " [  0 110   0   1]\n",
      " [  0   0  98   0]\n",
      " [  0   0   1  33]]\n"
     ]
    }
   ],
   "source": [
    "print(confusion_matrix(y_train, grid_predictions))"
   ]
  },
  {
   "cell_type": "code",
   "execution_count": 63,
   "id": "nl4vZSf8p1I1",
   "metadata": {
    "colab": {
     "base_uri": "https://localhost:8080/"
    },
    "id": "nl4vZSf8p1I1",
    "outputId": "557e8629-17fe-4d59-a8a7-d8f5f4e4cb02",
    "scrolled": true
   },
   "outputs": [
    {
     "name": "stdout",
     "output_type": "stream",
     "text": [
      "              precision    recall  f1-score   support\n",
      "\n",
      "           0       1.00      1.00      1.00       105\n",
      "           1       1.00      0.99      1.00       111\n",
      "           2       0.99      1.00      0.99        98\n",
      "           3       0.97      0.97      0.97        34\n",
      "\n",
      "    accuracy                           0.99       348\n",
      "   macro avg       0.99      0.99      0.99       348\n",
      "weighted avg       0.99      0.99      0.99       348\n",
      "\n"
     ]
    }
   ],
   "source": [
    "print(classification_report(y_train, grid_predictions))"
   ]
  },
  {
   "cell_type": "markdown",
   "id": "fvWAXZJNp2NK",
   "metadata": {
    "id": "fvWAXZJNp2NK"
   },
   "source": [
    "### Test"
   ]
  },
  {
   "cell_type": "code",
   "execution_count": 64,
   "id": "tKIdkzCVp3XK",
   "metadata": {
    "id": "tKIdkzCVp3XK",
    "scrolled": true
   },
   "outputs": [],
   "source": [
    "grid_predictions = grid.predict(x_test)"
   ]
  },
  {
   "cell_type": "code",
   "execution_count": 65,
   "id": "p3Aw0yx9p5Dq",
   "metadata": {
    "colab": {
     "base_uri": "https://localhost:8080/"
    },
    "id": "p3Aw0yx9p5Dq",
    "outputId": "56fa3522-f7eb-471e-91eb-ce8101d6d9d4",
    "scrolled": true
   },
   "outputs": [
    {
     "name": "stdout",
     "output_type": "stream",
     "text": [
      "[[36 11  2  1]\n",
      " [ 5 21  4  4]\n",
      " [ 3  2 16  4]\n",
      " [ 0  2  0  6]]\n"
     ]
    }
   ],
   "source": [
    "print(confusion_matrix(y_test, grid_predictions))"
   ]
  },
  {
   "cell_type": "code",
   "execution_count": 66,
   "id": "99oBkv6rp67F",
   "metadata": {
    "colab": {
     "base_uri": "https://localhost:8080/"
    },
    "id": "99oBkv6rp67F",
    "outputId": "cc5417dc-3e58-4f36-bed0-f846d2ab6053",
    "scrolled": true
   },
   "outputs": [
    {
     "name": "stdout",
     "output_type": "stream",
     "text": [
      "              precision    recall  f1-score   support\n",
      "\n",
      "           0       0.82      0.72      0.77        50\n",
      "           1       0.58      0.62      0.60        34\n",
      "           2       0.73      0.64      0.68        25\n",
      "           3       0.40      0.75      0.52         8\n",
      "\n",
      "    accuracy                           0.68       117\n",
      "   macro avg       0.63      0.68      0.64       117\n",
      "weighted avg       0.70      0.68      0.68       117\n",
      "\n"
     ]
    }
   ],
   "source": [
    "print(classification_report(y_test, grid_predictions))"
   ]
  },
  {
   "cell_type": "code",
   "execution_count": 67,
   "id": "QojNBp9AhLp1",
   "metadata": {
    "colab": {
     "base_uri": "https://localhost:8080/"
    },
    "id": "QojNBp9AhLp1",
    "outputId": "04a82816-8a94-4ebc-9b83-9ea11602c0f2",
    "scrolled": false
   },
   "outputs": [
    {
     "name": "stdout",
     "output_type": "stream",
     "text": [
      "Fitting 5 folds for each of 49 candidates, totalling 245 fits\n",
      "Fitting 5 folds for each of 49 candidates, totalling 245 fits\n",
      "Fitting 5 folds for each of 49 candidates, totalling 245 fits\n",
      "Fitting 5 folds for each of 49 candidates, totalling 245 fits\n",
      "Fitting 5 folds for each of 49 candidates, totalling 245 fits\n",
      "Fitting 5 folds for each of 49 candidates, totalling 245 fits\n",
      "Fitting 5 folds for each of 49 candidates, totalling 245 fits\n",
      "Fitting 5 folds for each of 49 candidates, totalling 245 fits\n",
      "Fitting 5 folds for each of 49 candidates, totalling 245 fits\n",
      "Fitting 5 folds for each of 49 candidates, totalling 245 fits\n",
      "Accuracy per Fold: [1.         1.         1.         0.91489362 0.9787234  0.93478261\n",
      " 0.65217391 0.2826087  0.36956522 0.39130435]\n",
      "Mean Accuracy: 0.7524051803885292\n"
     ]
    }
   ],
   "source": [
    "scores = cross_val_score(grid, x, y, cv=10, scoring='accuracy')\n",
    "\n",
    "print('Accuracy per Fold:', scores)\n",
    "print('Mean Accuracy:', scores.mean())"
   ]
  }
 ],
 "metadata": {
  "colab": {
   "provenance": []
  },
  "kernelspec": {
   "display_name": "Python 3",
   "language": "python",
   "name": "python3"
  },
  "language_info": {
   "codemirror_mode": {
    "name": "ipython",
    "version": 3
   },
   "file_extension": ".py",
   "mimetype": "text/x-python",
   "name": "python",
   "nbconvert_exporter": "python",
   "pygments_lexer": "ipython3",
   "version": "3.8.8"
  }
 },
 "nbformat": 4,
 "nbformat_minor": 5
}
